{
 "metadata": {
  "name": "",
  "signature": "sha256:063fd8995cd42c6b876f1d1f62a6c47b322604396b240e001faf7314359d9389"
 },
 "nbformat": 3,
 "nbformat_minor": 0,
 "worksheets": [
  {
   "cells": [
    {
     "cell_type": "heading",
     "level": 2,
     "metadata": {},
     "source": [
      "Transfer function of a position sensor."
     ]
    },
    {
     "cell_type": "markdown",
     "metadata": {},
     "source": [
      "Andr\u00e9s Marrugo"
     ]
    },
    {
     "cell_type": "markdown",
     "metadata": {},
     "source": [
      "The transfer function of a small position sensor is evaluated experimentally. The sensor is made of a very small magnet and the position with respect to the centerline (see Figure 2.24) is sensed by the horizontal, restoring force on the magnet. The magnet is held at a fixed distance, $h$, from the iron plate. The measurements are given in the table below."
     ]
    },
    {
     "cell_type": "markdown",
     "metadata": {},
     "source": [
      "|                      \t|    \t|       \t|       \t|       \t|       \t|       \t|       \t|       \t|\n",
      "|----------------------\t|----\t|-------\t|-------\t|-------\t|-------\t|-------\t|-------\t|-------\t|\n",
      "| Displacement, d [mm] \t| 0  \t| 0.08  \t| 0.16  \t| 0.24  \t| 0.32  \t| 0.4   \t| 0.48  \t| 0.52  \t|\n",
      "| Force [mN]           \t|  0 \t| 0.576 \t| 1.147 \t| 1.677 \t| 2.187 \t| 2.648 \t| 3.089 \t| 3.295 \t|\n",
      "|                      \t|    \t|       \t|       \t|       \t|       \t|       \t|       \t|       \t|"
     ]
    },
    {
     "cell_type": "markdown",
     "metadata": {},
     "source": [
      "![A simple position sensor.](../images/simple-position-sensor.png \"A simple position sensor.\")\n",
      "**Fig. 2.24 A simple position sensor.**"
     ]
    },
    {
     "cell_type": "markdown",
     "metadata": {},
     "source": [
      "1. Find the linear transfer function that best fits these data.    \n",
      "2. Find a transfer function in the form of a second-order polynomial ($y = a+bf+cf^2$), where $y$ is the displacement and $f$ is the restoring force by evaluating the constants $a$, $b$, and $c$.    \n",
      "3. Plot the original data together with the transfer functions in (1) and (2) and discuss the errors in the choice of approximation.    "
     ]
    },
    {
     "cell_type": "heading",
     "level": 3,
     "metadata": {},
     "source": [
      "Solution"
     ]
    },
    {
     "cell_type": "markdown",
     "metadata": {},
     "source": [
      "Let's begin by plotting the data."
     ]
    },
    {
     "cell_type": "code",
     "collapsed": false,
     "input": [
      "import matplotlib.pyplot as plt\n",
      "import numpy as np\n",
      "%matplotlib inline\n",
      "\n",
      "d = np.array([0,0.08,0.16,0.24,0.32,0.4,0.48,0.52])\n",
      "f = np.array([0,0.576,1.147,1.677,2.187,2.648,3.089,3.295])\n",
      "\n",
      "plt.plot(f,d,'*')\n",
      "plt.ylabel('Displacement [mm]')\n",
      "plt.xlabel('Force [mN]')\n",
      "plt.show()\n"
     ],
     "language": "python",
     "metadata": {},
     "outputs": [
      {
       "metadata": {},
       "output_type": "display_data",
       "png": "[encoded data removed]",
       "text": [
        "<matplotlib.figure.Figure at 0x1127df350>"
       ]
      }
     ],
     "prompt_number": 39
    },
    {
     "cell_type": "markdown",
     "metadata": {},
     "source": [
      "We can see that the data is approximately linear, but not quite.\n",
      "\n",
      "The linear transfer fuction that best fits the data is found by performing a linear fit in the least squares sense. If we go back to the book and review how to carry out linear approximation of nonlinear transfer functions."
     ]
    },
    {
     "cell_type": "code",
     "collapsed": false,
     "input": [
      "from IPython.display import IFrame\n",
      "IFrame('../pdfs/linear-approximation.pdf',\n",
      "       width='100%', height=400)"
     ],
     "language": "python",
     "metadata": {},
     "outputs": [
      {
       "html": [
        "\n",
        "        <iframe\n",
        "            width=\"100%\"\n",
        "            height=400\"\n",
        "            src=\"../pdfs/linear-approximation.pdf\"\n",
        "            frameborder=\"0\"\n",
        "            allowfullscreen\n",
        "        ></iframe>\n",
        "        "
       ],
       "metadata": {},
       "output_type": "pyout",
       "prompt_number": 1,
       "text": [
        "<IPython.lib.display.IFrame at 0x103380b90>"
       ]
      }
     ],
     "prompt_number": 1
    },
    {
     "cell_type": "markdown",
     "metadata": {},
     "source": [
      "We see that we need to fit the data to a line with equation $y=ax+b$, and we need to compute the coefficients $a$ and $b$ that provides a best fit in the least squares sense.\n",
      "\n",
      "To do this in python we do the following."
     ]
    },
    {
     "cell_type": "code",
     "collapsed": false,
     "input": [
      "# polyfit computes the coefficients a and b of degree=1\n",
      "a,b = np.polyfit(f,d,1)\n",
      "\n",
      "print 'The coefficients are a =',a,'b =',b\n",
      "\n",
      "d_prime = a*f+b\n",
      "plt.plot(d_prime,f,':b',label='Fitted line')\n",
      "plt.plot(d,f,'*')\n",
      "plt.ylabel('Displacement [mm]')\n",
      "plt.xlabel('Force [mN]')\n",
      "plt.axis([0,0.6,0,3])\n",
      "plt.show()"
     ],
     "language": "python",
     "metadata": {},
     "outputs": [
      {
       "output_type": "stream",
       "stream": "stdout",
       "text": [
        "The coefficients are a = 0.157661058706 b = -0.0131058771534\n"
       ]
      },
      {
       "metadata": {},
       "output_type": "display_data",
       "png": "[encoded data removed]",
       "text": [
        "<matplotlib.figure.Figure at 0x1168f9c90>"
       ]
      }
     ],
     "prompt_number": 54
    },
    {
     "cell_type": "markdown",
     "metadata": {},
     "source": [
      "This is great, but notice that in the original table a force $F=0$ is produced when the displacement $d=0$. This means that the linear fit must ideally pass through the origin $(0,0)$, which means $b=0$. So we must force this term to zero.\n",
      "\n",
      "This can be achieved by considering that\n",
      "\n",
      "$$\\mathbf{y} = a\\mathbf{x},$$\n",
      "\n",
      "$$\\begin{bmatrix} y_1 \\\\y_2 \\\\\\vdots \\\\y_n \\end{bmatrix} = a \\begin{bmatrix} x_1 \\\\x_2 \\\\\\vdots \\\\x_n \\end{bmatrix}. $$\n",
      "\n",
      "So we look for the coefficient $a$ that best fits the data. Basically, $\\mathbf{y}*\\mathbf{x}^{-1}=a$, which is the same as, $\\mathbf{y}/\\mathbf{x}=a$. This can be done usin the [linalg.lstq][1] function.\n",
      "\n",
      "[1]: http://docs.scipy.org/doc/numpy/reference/generated/numpy.linalg.lstsq.html \"numpy.linalg.lstsq \u2014 NumPy v1.9 Manual\""
     ]
    },
    {
     "cell_type": "code",
     "collapsed": false,
     "input": [
      "A = np.vstack([f, np.zeros(len(f))]).T\n",
      "print A\n",
      "\n",
      "a_prime,b_prime = np.linalg.lstsq(A,d)[0]\n",
      "print 'The coefficients are a =',a_prime,'b =',b_prime"
     ],
     "language": "python",
     "metadata": {},
     "outputs": [
      {
       "output_type": "stream",
       "stream": "stdout",
       "text": [
        "[[ 0.     0.   ]\n",
        " [ 0.576  0.   ]\n",
        " [ 1.147  0.   ]\n",
        " [ 1.677  0.   ]\n",
        " [ 2.187  0.   ]\n",
        " [ 2.648  0.   ]\n",
        " [ 3.089  0.   ]\n",
        " [ 3.295  0.   ]]\n",
        "The coefficients are a = 0.152433873155 b = 0.0\n"
       ]
      }
     ],
     "prompt_number": 55
    },
    {
     "cell_type": "markdown",
     "metadata": {},
     "source": [
      "Now let's plot again."
     ]
    },
    {
     "cell_type": "code",
     "collapsed": false,
     "input": [
      "d_prime2 = a_prime*f\n",
      "plt.plot(f,d_prime2,':k')\n",
      "plt.plot(f,d,'*')\n",
      "plt.ylabel('Displacement [mm]')\n",
      "plt.xlabel('Force [mN]')\n",
      "plt.show()"
     ],
     "language": "python",
     "metadata": {},
     "outputs": [
      {
       "metadata": {},
       "output_type": "display_data",
       "png": "[encoded data removed]",
       "text": [
        "<matplotlib.figure.Figure at 0x116636750>"
       ]
      }
     ],
     "prompt_number": 60
    },
    {
     "cell_type": "markdown",
     "metadata": {},
     "source": [
      "For the transfer function in (2), $y = a+bf+cf^2$, we have to find $a$, $b$, and $c$."
     ]
    },
    {
     "cell_type": "code",
     "collapsed": false,
     "input": [
      "# polyfit computes the coefficients a and b of degree=1\n",
      "c3,b3,a3 = np.polyfit(f,d,2)\n",
      "\n",
      "print 'The coefficients are a =',a3,'b =',b3,'c =',c3"
     ],
     "language": "python",
     "metadata": {},
     "outputs": [
      {
       "output_type": "stream",
       "stream": "stdout",
       "text": [
        "The coefficients are a = 0.00187368040221 b = 0.126233269703 c = 0.00926531112283\n"
       ]
      }
     ],
     "prompt_number": 62
    },
    {
     "cell_type": "markdown",
     "metadata": {},
     "source": [
      "Now we plot both transfer functions."
     ]
    },
    {
     "cell_type": "code",
     "collapsed": false,
     "input": [
      "d_prime3 = a3+b3*f+c3*f**2\n",
      "plt.plot(f,d_prime3,'--k')\n",
      "plt.plot(f,d_prime2,':b',label='1')\n",
      "plt.plot(f,d,'*')\n",
      "plt.ylabel('Displacement [mm]')\n",
      "plt.xlabel('Force [mN]')\n",
      "plt.show()"
     ],
     "language": "python",
     "metadata": {},
     "outputs": [
      {
       "metadata": {},
       "output_type": "display_data",
       "png": "[encoded data removed]",
       "text": [
        "<matplotlib.figure.Figure at 0x11692b250>"
       ]
      }
     ],
     "prompt_number": 68
    },
    {
     "cell_type": "code",
     "collapsed": false,
     "input": [
      "# without forcing b=0\n",
      "error1 = np.sum(np.abs(d - d_prime))/len(d)\n",
      "print 'error 1: ',error1\n",
      "\n",
      "# forcing b=0\n",
      "error2 = np.sum(np.abs(d - d_prime2))/len(d)\n",
      "print 'error 2: ',error2\n",
      "\n",
      "# fitting to a second order degree polynomial\n",
      "error3 = np.sum(np.abs(d - d_prime3))/len(d)\n",
      "print 'error 3: ',error3"
     ],
     "language": "python",
     "metadata": {},
     "outputs": [
      {
       "output_type": "stream",
       "stream": "stdout",
       "text": [
        "error 1:  0.00877563500446\n",
        "error 2:  0.0102693874012\n",
        "error 3:  0.00136479637705\n"
       ]
      }
     ],
     "prompt_number": 75
    },
    {
     "cell_type": "markdown",
     "metadata": {},
     "source": [
      "Owing to the nonlinearity of the data, the error is lower for a second degree polynomial fit (error 3). However, the errors for a linear fit (errors 1 and 2) can be considered acceptable, while maintaining a simple and linear transfer function."
     ]
    },
    {
     "cell_type": "markdown",
     "metadata": {},
     "source": [
      "> This page was written in the [IPython Notebook](http://ipython.org/notebook.html). To download the notebook click on this option at the top menu or get it from the [github repo](https://github.com/demotu/BMC)."
     ]
    }
   ],
   "metadata": {}
  }
 ]
}