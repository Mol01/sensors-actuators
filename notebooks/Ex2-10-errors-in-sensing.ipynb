{
 "cells": [
  {
   "cell_type": "markdown",
   "metadata": {},
   "source": [
    "# Errors in Sensing\n",
    "\n",
    "Andrés Marrugo, PhD"
   ]
  },
  {
   "cell_type": "markdown",
   "metadata": {},
   "source": [
    "A thermistor is used to measure temperatures between $-30^{\\circ}$ and $80^{\\circ}$ and produces an output voltage between 2.8 V and 1.5 V. The ideal transfer function is shown in the plot below (solid line). Because of errors, the accuracy in sensing is $\\pm0.5^{\\circ}$. The errors may be specified as follows:"
   ]
  },
  {
   "cell_type": "markdown",
   "metadata": {},
   "source": [
    "a) In terms of the input as $\\pm0.5^{\\circ}$"
   ]
  },
  {
   "cell_type": "markdown",
   "metadata": {},
   "source": [
    "b) As a percentange of the input span (Input Full Scale, IFS):"
   ]
  },
  {
   "cell_type": "code",
   "execution_count": 2,
   "metadata": {
    "collapsed": false
   },
   "outputs": [
    {
     "name": "stdout",
     "output_type": "stream",
     "text": [
      "The error as percentange of the input span is e = 0.455 %\n"
     ]
    }
   ],
   "source": [
    "span = 80-(-30) #input span or input full scale (IFS)\n",
    "e_input = 0.5 # error as input\n",
    "\n",
    "e = (e_input/span) *100\n",
    "\n",
    "## Error as % IFS\n",
    "print 'The error as percentange of the input span is e = %2.3f %%' % (e)"
   ]
  },
  {
   "cell_type": "markdown",
   "metadata": {},
   "source": [
    "c) In terms of the output span (Output Full Scale, OFS):"
   ]
  },
  {
   "cell_type": "markdown",
   "metadata": {},
   "source": [
    "This may be taken off the curve as the difference shown or may be calculated by first evaluating the transfer function and its maximum and minimum limits, as shown in the plot "
   ]
  },
  {
   "cell_type": "code",
   "execution_count": 3,
   "metadata": {
    "collapsed": false
   },
   "outputs": [
    {
     "name": "stdout",
     "output_type": "stream",
     "text": [
      "The error in terms of the output is e = ± 0.0059 V\n",
      "The error as percentange of the output span is e = 0.455 %\n"
     ]
    },
    {
     "data": {
      "image/png": "[encoded data removed]",
      "text/plain": [
       "<matplotlib.figure.Figure at 0x1141cb610>"
      ]
     },
     "metadata": {},
     "output_type": "display_data"
    }
   ],
   "source": [
    "import numpy as np\n",
    "import matplotlib.pyplot as plt\n",
    "%matplotlib inline\n",
    "\n",
    "temp = np.array([-30,80])\n",
    "volt = np.array([2.8,1.5])\n",
    "\n",
    "# polyfit computes the coefficients a and b of degree=1\n",
    "a,b = np.polyfit(temp,volt,1)\n",
    "\n",
    "t = np.linspace(-30,80,50)\n",
    "trans_f = a*t+b # linear transfer function\n",
    "\n",
    "# Error in terms of output\n",
    "e_output = np.abs(a*e_input)\n",
    "\n",
    "print 'The error in terms of the output is e = ± %2.4f V' % (e_output)\n",
    "\n",
    "## Error as % OFS \n",
    "out_span = 2.8-1.5\n",
    "e_ofs = e_output/out_span *100\n",
    "\n",
    "print 'The error as percentange of the output span is e = %2.3f %%' % (e_ofs)\n",
    "\n",
    "# Error bounds\n",
    "trans_f_plus = trans_f + e_output\n",
    "trans_f_minus = trans_f - e_output\n",
    "\n",
    "\n",
    "# Plotting\n",
    "plt.plot(t,trans_f)\n",
    "plt.plot(t,trans_f_plus,'--')\n",
    "plt.plot(t,trans_f_minus,'--')\n",
    "plt.xlabel('T [$^{\\circ}$C]')\n",
    "plt.ylabel('V [V]')\n",
    "plt.xlim([-30,-25])\n",
    "plt.ylim([2.7,2.9])\n",
    "plt.legend(['Ideal Transfer Function','Upper error','Lower Error'])\n",
    "plt.show()"
   ]
  }
 ],
 "metadata": {
  "kernelspec": {
   "display_name": "Python 2",
   "language": "python",
   "name": "python2"
  },
  "language_info": {
   "codemirror_mode": {
    "name": "ipython",
    "version": 2
   },
   "file_extension": ".py",
   "mimetype": "text/x-python",
   "name": "python",
   "nbconvert_exporter": "python",
   "pygments_lexer": "ipython2",
   "version": "2.7.13"
  }
 },
 "nbformat": 4,
 "nbformat_minor": 2
}
